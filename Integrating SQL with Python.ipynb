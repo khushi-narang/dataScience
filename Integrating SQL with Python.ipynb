{
 "cells": [
  {
   "cell_type": "markdown",
   "id": "b7c1650c",
   "metadata": {},
   "source": [
    "# Integrating SQL and Python"
   ]
  },
  {
   "cell_type": "markdown",
   "id": "60030bf0",
   "metadata": {},
   "source": [
    "## Step 1: Install the Required Libraries"
   ]
  },
  {
   "cell_type": "code",
   "execution_count": 2,
   "id": "1605f3ae",
   "metadata": {},
   "outputs": [
    {
     "name": "stdout",
     "output_type": "stream",
     "text": [
      "Requirement already satisfied: pymysql in c:\\users\\khushi\\anaconda3\\lib\\site-packages (1.1.1)\n",
      "Note: you may need to restart the kernel to use updated packages.\n"
     ]
    }
   ],
   "source": [
    "pip install pymysql"
   ]
  },
  {
   "cell_type": "markdown",
   "id": "f086a581",
   "metadata": {},
   "source": [
    "## Step 2: Import Libraries and Connect to MySQL"
   ]
  },
  {
   "cell_type": "code",
   "execution_count": 3,
   "id": "9e31a51d",
   "metadata": {},
   "outputs": [],
   "source": [
    "import pymysql\n",
    "import pandas as pd\n",
    "\n",
    "# Connect to MySQL database\n",
    "connection = pymysql.connect(\n",
    "    host='localhost',  # Replace with your host\n",
    "    user='root',  # Replace with your username\n",
    "    password='',  # Replace with your password\n",
    "    database=''  # Replace with your database name\n",
    ")\n",
    "\n",
    "cursor = connection.cursor()"
   ]
  },
  {
   "cell_type": "markdown",
   "id": "7023c725",
   "metadata": {},
   "source": [
    "## Step 3: Execute Queries and Fetch Data"
   ]
  },
  {
   "cell_type": "code",
   "execution_count": 9,
   "id": "5354e333",
   "metadata": {},
   "outputs": [
    {
     "data": {
      "text/html": [
       "<div>\n",
       "<style scoped>\n",
       "    .dataframe tbody tr th:only-of-type {\n",
       "        vertical-align: middle;\n",
       "    }\n",
       "\n",
       "    .dataframe tbody tr th {\n",
       "        vertical-align: top;\n",
       "    }\n",
       "\n",
       "    .dataframe thead th {\n",
       "        text-align: right;\n",
       "    }\n",
       "</style>\n",
       "<table border=\"1\" class=\"dataframe\">\n",
       "  <thead>\n",
       "    <tr style=\"text-align: right;\">\n",
       "      <th></th>\n",
       "      <th>employee_id</th>\n",
       "      <th>first_name</th>\n",
       "      <th>last_name</th>\n",
       "      <th>email</th>\n",
       "      <th>department_id</th>\n",
       "      <th>salary</th>\n",
       "    </tr>\n",
       "  </thead>\n",
       "  <tbody>\n",
       "    <tr>\n",
       "      <th>0</th>\n",
       "      <td>1</td>\n",
       "      <td>John</td>\n",
       "      <td>Doe</td>\n",
       "      <td>john.doe@example.com</td>\n",
       "      <td>10</td>\n",
       "      <td>60000.00</td>\n",
       "    </tr>\n",
       "    <tr>\n",
       "      <th>1</th>\n",
       "      <td>2</td>\n",
       "      <td>Jane</td>\n",
       "      <td>Smith</td>\n",
       "      <td>jane.smith@example.com</td>\n",
       "      <td>20</td>\n",
       "      <td>75000.00</td>\n",
       "    </tr>\n",
       "    <tr>\n",
       "      <th>2</th>\n",
       "      <td>3</td>\n",
       "      <td>David</td>\n",
       "      <td>Lee</td>\n",
       "      <td>david.lee@example.com</td>\n",
       "      <td>10</td>\n",
       "      <td>55000.00</td>\n",
       "    </tr>\n",
       "    <tr>\n",
       "      <th>3</th>\n",
       "      <td>4</td>\n",
       "      <td>Sarah</td>\n",
       "      <td>Jones</td>\n",
       "      <td>sarah.jones@example.com</td>\n",
       "      <td>30</td>\n",
       "      <td>80000.00</td>\n",
       "    </tr>\n",
       "    <tr>\n",
       "      <th>4</th>\n",
       "      <td>5</td>\n",
       "      <td>Michael</td>\n",
       "      <td>Brown</td>\n",
       "      <td>michael.brown@example.com</td>\n",
       "      <td>20</td>\n",
       "      <td>65000.00</td>\n",
       "    </tr>\n",
       "  </tbody>\n",
       "</table>\n",
       "</div>"
      ],
      "text/plain": [
       "   employee_id first_name last_name                      email  department_id  \\\n",
       "0            1       John       Doe       john.doe@example.com             10   \n",
       "1            2       Jane     Smith     jane.smith@example.com             20   \n",
       "2            3      David       Lee      david.lee@example.com             10   \n",
       "3            4      Sarah     Jones    sarah.jones@example.com             30   \n",
       "4            5    Michael     Brown  michael.brown@example.com             20   \n",
       "\n",
       "     salary  \n",
       "0  60000.00  \n",
       "1  75000.00  \n",
       "2  55000.00  \n",
       "3  80000.00  \n",
       "4  65000.00  "
      ]
     },
     "execution_count": 9,
     "metadata": {},
     "output_type": "execute_result"
    }
   ],
   "source": [
    "# Select all records from the employees table\n",
    "select_query = \"\"\"SELECT employee_id, first_name, last_name, email, department_id,salary \n",
    "FROM employees \"\"\"\n",
    "cursor.execute(select_query)\n",
    "rows = cursor.fetchall()\n",
    "\n",
    "# Convert to a DataFrame for better readability\n",
    "df = pd.DataFrame(rows, columns=['employee_id', 'first_name', 'last_name', 'email', 'department_id', 'salary'])\n",
    "df.head()"
   ]
  },
  {
   "cell_type": "markdown",
   "id": "c0b86be7",
   "metadata": {},
   "source": [
    "## Step 4: Automate ETL Processes\n",
    "* Here's a simple ETL (Extract, Transform, Load) example:\n",
    "\n",
    "    * Extract data from the database\n",
    "    * Transform the data (e.g., increase salaries by 10%)\n",
    "    * Load the data back into the database (update salaries)"
   ]
  },
  {
   "cell_type": "code",
   "execution_count": 15,
   "id": "3b0c8ca6",
   "metadata": {},
   "outputs": [
    {
     "data": {
      "text/html": [
       "<div>\n",
       "<style scoped>\n",
       "    .dataframe tbody tr th:only-of-type {\n",
       "        vertical-align: middle;\n",
       "    }\n",
       "\n",
       "    .dataframe tbody tr th {\n",
       "        vertical-align: top;\n",
       "    }\n",
       "\n",
       "    .dataframe thead th {\n",
       "        text-align: right;\n",
       "    }\n",
       "</style>\n",
       "<table border=\"1\" class=\"dataframe\">\n",
       "  <thead>\n",
       "    <tr style=\"text-align: right;\">\n",
       "      <th></th>\n",
       "      <th>employee_id</th>\n",
       "      <th>first_name</th>\n",
       "      <th>last_name</th>\n",
       "      <th>email</th>\n",
       "      <th>department_id</th>\n",
       "      <th>salary</th>\n",
       "    </tr>\n",
       "  </thead>\n",
       "  <tbody>\n",
       "    <tr>\n",
       "      <th>0</th>\n",
       "      <td>1</td>\n",
       "      <td>John</td>\n",
       "      <td>Doe</td>\n",
       "      <td>john.doe@example.com</td>\n",
       "      <td>10</td>\n",
       "      <td>72600.0</td>\n",
       "    </tr>\n",
       "    <tr>\n",
       "      <th>1</th>\n",
       "      <td>2</td>\n",
       "      <td>Jane</td>\n",
       "      <td>Smith</td>\n",
       "      <td>jane.smith@example.com</td>\n",
       "      <td>20</td>\n",
       "      <td>90750.0</td>\n",
       "    </tr>\n",
       "    <tr>\n",
       "      <th>2</th>\n",
       "      <td>3</td>\n",
       "      <td>David</td>\n",
       "      <td>Lee</td>\n",
       "      <td>david.lee@example.com</td>\n",
       "      <td>10</td>\n",
       "      <td>66550.0</td>\n",
       "    </tr>\n",
       "    <tr>\n",
       "      <th>3</th>\n",
       "      <td>4</td>\n",
       "      <td>Sarah</td>\n",
       "      <td>Jones</td>\n",
       "      <td>sarah.jones@example.com</td>\n",
       "      <td>30</td>\n",
       "      <td>96800.0</td>\n",
       "    </tr>\n",
       "    <tr>\n",
       "      <th>4</th>\n",
       "      <td>5</td>\n",
       "      <td>Michael</td>\n",
       "      <td>Brown</td>\n",
       "      <td>michael.brown@example.com</td>\n",
       "      <td>20</td>\n",
       "      <td>78650.0</td>\n",
       "    </tr>\n",
       "  </tbody>\n",
       "</table>\n",
       "</div>"
      ],
      "text/plain": [
       "   employee_id first_name last_name                      email  department_id  \\\n",
       "0            1       John       Doe       john.doe@example.com             10   \n",
       "1            2       Jane     Smith     jane.smith@example.com             20   \n",
       "2            3      David       Lee      david.lee@example.com             10   \n",
       "3            4      Sarah     Jones    sarah.jones@example.com             30   \n",
       "4            5    Michael     Brown  michael.brown@example.com             20   \n",
       "\n",
       "    salary  \n",
       "0  72600.0  \n",
       "1  90750.0  \n",
       "2  66550.0  \n",
       "3  96800.0  \n",
       "4  78650.0  "
      ]
     },
     "execution_count": 15,
     "metadata": {},
     "output_type": "execute_result"
    }
   ],
   "source": [
    "# Extract data\n",
    "extract_query = 'SELECT employee_id, salary FROM employees'\n",
    "cursor.execute(extract_query)\n",
    "employees = cursor.fetchall()\n",
    "\n",
    "# Transform data (increase salary by 10%)\n",
    "updated_salaries = [(salary * 1.10, emp_id) for emp_id, salary in employees]\n",
    "\n",
    "# Load data (update salaries in the database)\n",
    "update_query = 'UPDATE employees SET salary = %s WHERE employee_id = %s'\n",
    "cursor.executemany(update_query, updated_salaries)\n",
    "\n",
    "# Commit the changes\n",
    "# connection.commit()\n",
    "\n",
    "# Verify the update\n",
    "cursor.execute(select_query)\n",
    "rows = cursor.fetchall()\n",
    "\n",
    "# Convert to a DataFrame for better readability\n",
    "df = pd.DataFrame(rows, columns=['employee_id', 'first_name', 'last_name', 'email', 'department_id', 'salary'])\n",
    "df.head()"
   ]
  },
  {
   "cell_type": "markdown",
   "id": "08ebb5de",
   "metadata": {},
   "source": [
    "## Functions"
   ]
  },
  {
   "cell_type": "markdown",
   "id": "728c3af8",
   "metadata": {},
   "source": [
    "### Numeric Functions"
   ]
  },
  {
   "cell_type": "code",
   "execution_count": null,
   "id": "5b6182e8",
   "metadata": {},
   "outputs": [],
   "source": [
    "# ABS: Returns the absolute value of a number\n",
    "\n",
    "# AVG: Returns the average value of an expression\n",
    "\n",
    "# CEIL: Returns the smallest integer value that is >= to a number\n",
    "\n",
    "# COUNT: Returns the number of records returned by a select query\n",
    "\n",
    "# FLOOR:  Returns the largest integer value that is <= to a number\n",
    "\n",
    "# MAX: Returns the maximum value in a set of values\n"
   ]
  },
  {
   "cell_type": "code",
   "execution_count": 20,
   "id": "cf40552b",
   "metadata": {},
   "outputs": [
    {
     "name": "stdout",
     "output_type": "stream",
     "text": [
      "((20,),)\n"
     ]
    }
   ],
   "source": [
    "# COUNT: Returns the number of records returned by a select query\n",
    "select_query = \"\"\"SELECT COUNT(*) AS number_of_employees FROM Employees\"\"\"\n",
    "cursor.execute(select_query)\n",
    "rows = cursor.fetchall()\n",
    "\n",
    "print(rows)"
   ]
  },
  {
   "cell_type": "code",
   "execution_count": null,
   "id": "5ecd7ef0",
   "metadata": {},
   "outputs": [],
   "source": []
  }
 ],
 "metadata": {
  "kernelspec": {
   "display_name": "Python 3 (ipykernel)",
   "language": "python",
   "name": "python3"
  },
  "language_info": {
   "codemirror_mode": {
    "name": "ipython",
    "version": 3
   },
   "file_extension": ".py",
   "mimetype": "text/x-python",
   "name": "python",
   "nbconvert_exporter": "python",
   "pygments_lexer": "ipython3",
   "version": "3.11.5"
  }
 },
 "nbformat": 4,
 "nbformat_minor": 5
}
