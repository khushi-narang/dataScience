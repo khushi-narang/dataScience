{
 "cells": [
  {
   "cell_type": "code",
   "execution_count": 11,
   "id": "54223ed0-594a-4508-b41a-f226845479d0",
   "metadata": {},
   "outputs": [
    {
     "name": "stdin",
     "output_type": "stream",
     "text": [
      "Enter budget:  30000\n"
     ]
    },
    {
     "name": "stdout",
     "output_type": "stream",
     "text": [
      "Mobile under budget\n"
     ]
    }
   ],
   "source": [
    "# q1. \n",
    "budget = int(input(\"Enter budget: \"))\n",
    "if budget>=30000:\n",
    "    print(\"Mobile under budget\")\n",
    "else:\n",
    "        print(\"Mobile out of budget\")\n"
   ]
  },
  {
   "cell_type": "code",
   "execution_count": 15,
   "id": "02c88ad1-e806-4e35-b6c0-10dc835e09bd",
   "metadata": {},
   "outputs": [
    {
     "name": "stdin",
     "output_type": "stream",
     "text": [
      "Enter prefered storage (MB) 64\n"
     ]
    },
    {
     "name": "stdout",
     "output_type": "stream",
     "text": [
      "price: 20000\n"
     ]
    }
   ],
   "source": [
    "# q2. \n",
    "storage = int(input(\"Enter prefered storage (MB)\"))\n",
    "print(\"price: \",end = \"\")\n",
    "if (storage == 32):\n",
    "    print(15000)\n",
    "elif(storage == 64):\n",
    "    print(20000)\n",
    "elif(storage == 128):\n",
    "    print(30000)\n",
    "elif(storage == 256):\n",
    "    print(40000)\n",
    "else:\n",
    "    print(\"NA\")\n",
    "    "
   ]
  },
  {
   "cell_type": "code",
   "execution_count": 30,
   "id": "f8ae09a5-5ea4-41ba-bdea-a14b201cd6b4",
   "metadata": {},
   "outputs": [
    {
     "name": "stdin",
     "output_type": "stream",
     "text": [
      "Enter score in first round:  90\n"
     ]
    },
    {
     "name": "stdout",
     "output_type": "stream",
     "text": [
      "Eligible for Round 2\n"
     ]
    },
    {
     "name": "stdin",
     "output_type": "stream",
     "text": [
      "Enter score in round 2:  80\n"
     ]
    },
    {
     "name": "stdout",
     "output_type": "stream",
     "text": [
      "Eligible for Round 3\n"
     ]
    },
    {
     "name": "stdin",
     "output_type": "stream",
     "text": [
      "Enter score in round 3:  70\n"
     ]
    },
    {
     "name": "stdout",
     "output_type": "stream",
     "text": [
      "SELECTED\n"
     ]
    }
   ],
   "source": [
    "score = int(input(\"Enter score in first round: \"))\n",
    "if (score >= 80):\n",
    "    print(\"Eligible for Round 2\")\n",
    "    score = int(input(\"Enter score in round 2: \"))\n",
    "    if (score >= 70):\n",
    "        print(\"Eligible for Round 3\")\n",
    "        score = int(input(\"Enter score in round 3: \"))\n",
    "        if (score >= 60):\n",
    "            print(\"SELECTED\")\n",
    "        else:\n",
    "            print(\"REJECTED\")\n",
    "    else:\n",
    "        print(\"REJECTED\")\n",
    "else:\n",
    "    print(\"REJECTED\")"
   ]
  },
  {
   "cell_type": "code",
   "execution_count": 36,
   "id": "a46c98d4-f388-40e7-8c60-c02354c1ade4",
   "metadata": {},
   "outputs": [
    {
     "name": "stdin",
     "output_type": "stream",
     "text": [
      "Enter marks:  90\n"
     ]
    },
    {
     "name": "stdout",
     "output_type": "stream",
     "text": [
      "Group 1\n"
     ]
    }
   ],
   "source": [
    "marks = int(input(\"Enter marks: \"))\n",
    "if(marks>=80):\n",
    "    print(\"Group 1\")\n",
    "elif (marks>=60):\n",
    "    print(\"Group 2\")\n",
    "elif (marks>=40):\n",
    "    print(\"Group 3\")\n",
    "else:\n",
    "    print(\"NA\")"
   ]
  },
  {
   "cell_type": "code",
   "execution_count": 48,
   "id": "8be059aa-47d0-4199-afce-16dfd66e1e02",
   "metadata": {},
   "outputs": [
    {
     "name": "stdin",
     "output_type": "stream",
     "text": [
      "Enter username:  Admin\n",
      "Enter password:  12345\n"
     ]
    },
    {
     "name": "stdout",
     "output_type": "stream",
     "text": [
      "Login Successful\n"
     ]
    }
   ],
   "source": [
    "username = input(\"Enter username: \")\n",
    "if (username == \"admin\"):\n",
    "    password = int(input(\"Enter password: \"))\n",
    "    if (password == 12345):\n",
    "        print(\"Login Successful\")\n",
    "    else:\n",
    "        print(\"Incorrect password\")\n",
    "else:\n",
    "    print(\"Incorrect username\")"
   ]
  },
  {
   "cell_type": "code",
   "execution_count": 56,
   "id": "6f5f3c49-1ef1-4e54-894a-30757a8b9975",
   "metadata": {},
   "outputs": [
    {
     "name": "stdout",
     "output_type": "stream",
     "text": [
      "Price: 40000\n",
      "After discount:\n",
      "5%  : 38000.0\n",
      "10% : 36000.0\n",
      "15% : 34000.0\n",
      "20% : 32000.0\n"
     ]
    }
   ],
   "source": [
    "price = 40000\n",
    "print(f\"Price: {price}\\nAfter discount:\")\n",
    "\n",
    "print(\"5%  :\", price-(price*5/100))\n",
    "print(\"10% :\", price-(price*10/100))\n",
    "print(\"15% :\", price-(price*15/100))\n",
    "print(\"20% :\", price-(price*20/100))"
   ]
  },
  {
   "cell_type": "code",
   "execution_count": 60,
   "id": "50c5ab69-0775-4d75-b38e-0919de52235c",
   "metadata": {},
   "outputs": [
    {
     "name": "stdout",
     "output_type": "stream",
     "text": [
      "Price: 40000\n",
      "After discount:\n",
      "5%\t: 38000.0\n",
      "10%\t: 36000.0\n",
      "15%\t: 34000.0\n",
      "20%\t: 32000.0\n"
     ]
    }
   ],
   "source": [
    "price = 40000\n",
    "print(f\"Price: {price}\\nAfter discount:\")\n",
    "discounts = [5,10,15,20]\n",
    "for i in discounts:\n",
    "    print(f\"{i}%\\t:\", price-(price*i/100))\n"
   ]
  },
  {
   "cell_type": "code",
   "execution_count": 64,
   "id": "5522e0ce-1f61-47fd-b87f-6eddfc7ce5a1",
   "metadata": {},
   "outputs": [
    {
     "name": "stdout",
     "output_type": "stream",
     "text": [
      "Price: 40000\n",
      "After discount:\n",
      "5%\t: 38000.0\n",
      "10%\t: 36000.0\n",
      "15%\t: 34000.0\n",
      "20%\t: 32000.0\n"
     ]
    }
   ],
   "source": [
    "price = 40000\n",
    "print(f\"Price: {price}\\nAfter discount:\")\n",
    "discount = 5\n",
    "while(discount!=25):\n",
    "    print(f\"{discount}%\\t:\", price-(price*discount/100))\n",
    "    discount += 5"
   ]
  }
 ],
 "metadata": {
  "kernelspec": {
   "display_name": "Python 3 (ipykernel)",
   "language": "python",
   "name": "python3"
  },
  "language_info": {
   "codemirror_mode": {
    "name": "ipython",
    "version": 3
   },
   "file_extension": ".py",
   "mimetype": "text/x-python",
   "name": "python",
   "nbconvert_exporter": "python",
   "pygments_lexer": "ipython3",
   "version": "3.11.5"
  }
 },
 "nbformat": 4,
 "nbformat_minor": 5
}
